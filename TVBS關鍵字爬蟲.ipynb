{
 "cells": [
  {
   "cell_type": "code",
   "execution_count": 1,
   "id": "fce8fa35-c280-400c-b48c-b50139ba1ddb",
   "metadata": {},
   "outputs": [],
   "source": [
    "from datetime import *\n",
    "import urllib.request as req\n",
    "import requests\n",
    "import bs4\n",
    "import time\n",
    "import pandas as pd\n",
    "import numpy as np\n",
    "import re\n",
    "import string"
   ]
  },
  {
   "cell_type": "code",
   "execution_count": 2,
   "id": "5a0609b8-6a92-4600-91ba-7b1439b1daa9",
   "metadata": {},
   "outputs": [
    {
     "name": "stdout",
     "output_type": "stream",
     "text": [
      "2025-05-15 15:09:54.129304\n"
     ]
    }
   ],
   "source": [
    "### 變數及參數設定 ###\n",
    "\n",
    "# 網址\n",
    "url_1 = \"https://news.tvbs.com.tw/news/searchresult/%E8%A9%90%E4%BF%9D/news\" # 詐保\n",
    "url_2 = \"https://news.tvbs.com.tw/news/searchresult/%E8%B2%AA%E6%B1%99/news\" # 貪汙\n",
    "url_3 = \"https://news.tvbs.com.tw/news/searchresult/%E5%85%AC%E5%8B%99%E5%93%A1%20%E8%B2%AA%E6%B1%99/news\" # 公務員 貪汙\n",
    "url_4 = \"https://news.tvbs.com.tw/news/searchresult/%E5%85%A7%E7%B7%9A%E4%BA%A4%E6%98%93/news\" # 內線交易\n",
    "url_5 = \"https://news.tvbs.com.tw/news/searchresult/%E6%AC%A0%E7%A8%85%E5%A4%A7%E6%88%B6/news\"  # 欠稅大戶\n",
    "\n",
    "# 幾日前\n",
    "days = 7\n",
    "\n",
    "# 一頁多少篇新聞\n",
    "one_page = 25\n",
    "\n",
    "# 獲得現在日期時刻\n",
    "today = datetime.today()\n",
    "print(today)\n",
    "\n",
    "# 某日日期\n",
    "## today = datetime.strptime(\"2024-05-31 23:59:59\", \"%Y-%m-%d %H:%M:%S\")"
   ]
  },
  {
   "cell_type": "code",
   "execution_count": 3,
   "id": "3fdf2187-a6e3-4b26-9dc1-4ad773e5db75",
   "metadata": {},
   "outputs": [],
   "source": [
    "def TVBS(url, days, today, one_page):\n",
    "    ## 建立 list ##\n",
    "    Key = []        # 關鍵字\n",
    "    Title = []      # 標題\n",
    "    Time = []       # 發表日期\n",
    "    Text = []       # 內文\n",
    "    URL = []        # 網址\n",
    "\n",
    "    response = requests.get(url)\n",
    "    original_page = bs4.BeautifulSoup(response.text, \"html.parser\")\n",
    "    news_num_label = original_page.find(\"li\", class_ = \"t2\").find(\"div\", class_ = \"word\").find_all(\"span\")\n",
    "    key_name = news_num_label[0].string\n",
    "    news_num = int(re.findall(r\"\\d+\", news_num_label[1].string)[0])\n",
    "    pages = news_num//one_page+1\n",
    "\n",
    "    for page in range(1, pages+1):\n",
    "        main_page = requests.get(url + \"/\" + str(page)).text\n",
    "    \n",
    "        main_page = bs4.BeautifulSoup(main_page, \"html.parser\")\n",
    "\n",
    "        title_label = main_page.find_all(\"h2\", class_ = \"txt\")\n",
    "        time_label = original_page.find(\"div\", class_ = \"news_list\").find(\"div\", class_ = \"list\").ul.find_all(\"li\")\n",
    "        for i in range(one_page):\n",
    "            title = title_label[i].string\n",
    "            time = time_label[i].find(\"div\", class_ = \"time\").string\n",
    "\n",
    "            if \"前\" in time:\n",
    "                news_url = time_label[i].a[\"href\"]\n",
    "                Key.append(key_name), Title.append(title), URL.append(news_url)\n",
    "                news_response = requests.get(news_url)\n",
    "                news_page = bs4.BeautifulSoup(news_response.text, \"html.parser\")\n",
    "                news_time_string = news_page.find(\"div\", class_ = \"author_box\").find(\"div\", class_ = \"author\").text\n",
    "                # news_time_string = news_time_string.replace(\"\\t\", \"\").replace(\"\\n\", \"\")\n",
    "                news_time = re.findall(r\"\\d{4}/\\d{2}/\\d{2} \\d{2}:\\d{2}\", news_time_string)[0]\n",
    "                news_time = datetime.strptime(news_time, \"%Y/%m/%d %H:%M\")\n",
    "                Time.append(news_time)\n",
    "                news = news_page.find(\"div\", class_ = \"article_content\").text.replace(\"\\n\", \"\").replace(\"\\t\", \"\")\n",
    "                Text.append(news)\n",
    "        \n",
    "            else:\n",
    "                time = datetime.strptime(time, \"%Y/%m/%d %H:%M\")\n",
    "                news_url = time_label[i].a[\"href\"]\n",
    "    \n",
    "                sec = (today - time).total_seconds()\n",
    "                days_sec = timedelta(days = days).total_seconds()\n",
    "    \n",
    "                if sec <= days_sec and sec >= 0:\n",
    "                        Key.append(key_name), Title.append(title), Time.append(time), URL.append(news_url)\n",
    "    \n",
    "                        news_response = requests.get(news_url)\n",
    "                        news_page = bs4.BeautifulSoup(news_response.text, \"html.parser\")\n",
    "                        news = news_page.find(\"div\", class_ = \"article_content\").text.replace(\"\\n\", \"\").replace(\"\\t\", \"\").replace(\"\\xa0\", \"\")\n",
    "                        Text.append(news)\n",
    "                \n",
    "                elif sec < 0:\n",
    "                    continue\n",
    "                    \n",
    "                else:\n",
    "                    break\n",
    "                    \n",
    "        else:\n",
    "            continue\n",
    "            \n",
    "        break\n",
    "        \n",
    "    # 輸出 DataFrame\n",
    "    data = pd.DataFrame({\n",
    "        \"關鍵字\":Key,\n",
    "        \"標題\":Title,\n",
    "        \"時間\":Time,\n",
    "        \"內文\":Text,\n",
    "        \"網址\":URL\n",
    "    })\n",
    "    \n",
    "    return data"
   ]
  },
  {
   "cell_type": "code",
   "execution_count": 5,
   "id": "0a376b02-024c-46cc-aa80-6847bb8c14c4",
   "metadata": {},
   "outputs": [
    {
     "data": {
      "text/html": [
       "<div>\n",
       "<style scoped>\n",
       "    .dataframe tbody tr th:only-of-type {\n",
       "        vertical-align: middle;\n",
       "    }\n",
       "\n",
       "    .dataframe tbody tr th {\n",
       "        vertical-align: top;\n",
       "    }\n",
       "\n",
       "    .dataframe thead th {\n",
       "        text-align: right;\n",
       "    }\n",
       "</style>\n",
       "<table border=\"1\" class=\"dataframe\">\n",
       "  <thead>\n",
       "    <tr style=\"text-align: right;\">\n",
       "      <th></th>\n",
       "      <th>關鍵字</th>\n",
       "      <th>標題</th>\n",
       "      <th>時間</th>\n",
       "      <th>內文</th>\n",
       "      <th>網址</th>\n",
       "    </tr>\n",
       "  </thead>\n",
       "  <tbody>\n",
       "    <tr>\n",
       "      <th>0</th>\n",
       "      <td>貪汙</td>\n",
       "      <td>大陸半導體狂人 紫光前董座趙偉國貪汙判死緩 貪汙逾56.8億台幣</td>\n",
       "      <td>2025-05-15 14:00:00</td>\n",
       "      <td>被大陸稱為「半導體狂人」的中國紫光集團前董事長趙偉國，因為貪汙超過56.8億台幣，被判處死刑...</td>\n",
       "      <td>https://news.tvbs.com.tw/china/2870964</td>\n",
       "    </tr>\n",
       "    <tr>\n",
       "      <th>1</th>\n",
       "      <td>貪汙</td>\n",
       "      <td>放寬中藥商資格引藥師怒吼　控衛福部長、司長涉貪汙、圖利</td>\n",
       "      <td>2025-05-12 18:36:00</td>\n",
       "      <td>衛福部3月18日發布解釋令，放寬中藥從業人員資格，引發藥師公會全聯會強烈不滿，認為此舉違反《...</td>\n",
       "      <td>https://news.tvbs.com.tw/local/2867919</td>\n",
       "    </tr>\n",
       "  </tbody>\n",
       "</table>\n",
       "</div>"
      ],
      "text/plain": [
       "  關鍵字                                標題                  時間  \\\n",
       "0  貪汙  大陸半導體狂人 紫光前董座趙偉國貪汙判死緩 貪汙逾56.8億台幣 2025-05-15 14:00:00   \n",
       "1  貪汙       放寬中藥商資格引藥師怒吼　控衛福部長、司長涉貪汙、圖利 2025-05-12 18:36:00   \n",
       "\n",
       "                                                  內文  \\\n",
       "0  被大陸稱為「半導體狂人」的中國紫光集團前董事長趙偉國，因為貪汙超過56.8億台幣，被判處死刑...   \n",
       "1  衛福部3月18日發布解釋令，放寬中藥從業人員資格，引發藥師公會全聯會強烈不滿，認為此舉違反《...   \n",
       "\n",
       "                                       網址  \n",
       "0  https://news.tvbs.com.tw/china/2870964  \n",
       "1  https://news.tvbs.com.tw/local/2867919  "
      ]
     },
     "execution_count": 5,
     "metadata": {},
     "output_type": "execute_result"
    }
   ],
   "source": [
    "TVBS(url_2, days, today, one_page)"
   ]
  },
  {
   "cell_type": "code",
   "execution_count": 6,
   "id": "0988db30-53c6-439a-ae2a-b8a7f2ad9d9e",
   "metadata": {},
   "outputs": [
    {
     "data": {
      "text/html": [
       "<div>\n",
       "<style scoped>\n",
       "    .dataframe tbody tr th:only-of-type {\n",
       "        vertical-align: middle;\n",
       "    }\n",
       "\n",
       "    .dataframe tbody tr th {\n",
       "        vertical-align: top;\n",
       "    }\n",
       "\n",
       "    .dataframe thead th {\n",
       "        text-align: right;\n",
       "    }\n",
       "</style>\n",
       "<table border=\"1\" class=\"dataframe\">\n",
       "  <thead>\n",
       "    <tr style=\"text-align: right;\">\n",
       "      <th></th>\n",
       "      <th>關鍵字</th>\n",
       "      <th>標題</th>\n",
       "      <th>時間</th>\n",
       "      <th>內文</th>\n",
       "      <th>網址</th>\n",
       "    </tr>\n",
       "  </thead>\n",
       "  <tbody>\n",
       "  </tbody>\n",
       "</table>\n",
       "</div>"
      ],
      "text/plain": [
       "Empty DataFrame\n",
       "Columns: [關鍵字, 標題, 時間, 內文, 網址]\n",
       "Index: []"
      ]
     },
     "execution_count": 6,
     "metadata": {},
     "output_type": "execute_result"
    }
   ],
   "source": [
    "TVBS(url_3, days, today, one_page)"
   ]
  },
  {
   "cell_type": "code",
   "execution_count": 8,
   "id": "4eacaabd-a471-43bf-8665-f585c1862085",
   "metadata": {},
   "outputs": [
    {
     "data": {
      "text/html": [
       "<div>\n",
       "<style scoped>\n",
       "    .dataframe tbody tr th:only-of-type {\n",
       "        vertical-align: middle;\n",
       "    }\n",
       "\n",
       "    .dataframe tbody tr th {\n",
       "        vertical-align: top;\n",
       "    }\n",
       "\n",
       "    .dataframe thead th {\n",
       "        text-align: right;\n",
       "    }\n",
       "</style>\n",
       "<table border=\"1\" class=\"dataframe\">\n",
       "  <thead>\n",
       "    <tr style=\"text-align: right;\">\n",
       "      <th></th>\n",
       "      <th>關鍵字</th>\n",
       "      <th>標題</th>\n",
       "      <th>時間</th>\n",
       "      <th>內文</th>\n",
       "      <th>網址</th>\n",
       "    </tr>\n",
       "  </thead>\n",
       "  <tbody>\n",
       "  </tbody>\n",
       "</table>\n",
       "</div>"
      ],
      "text/plain": [
       "Empty DataFrame\n",
       "Columns: [關鍵字, 標題, 時間, 內文, 網址]\n",
       "Index: []"
      ]
     },
     "execution_count": 8,
     "metadata": {},
     "output_type": "execute_result"
    }
   ],
   "source": [
    "TVBS(url_4, days, today, one_page)"
   ]
  },
  {
   "cell_type": "code",
   "execution_count": 9,
   "id": "6a335d0e-3649-4381-a0f1-addf91c0dbe6",
   "metadata": {},
   "outputs": [
    {
     "data": {
      "text/html": [
       "<div>\n",
       "<style scoped>\n",
       "    .dataframe tbody tr th:only-of-type {\n",
       "        vertical-align: middle;\n",
       "    }\n",
       "\n",
       "    .dataframe tbody tr th {\n",
       "        vertical-align: top;\n",
       "    }\n",
       "\n",
       "    .dataframe thead th {\n",
       "        text-align: right;\n",
       "    }\n",
       "</style>\n",
       "<table border=\"1\" class=\"dataframe\">\n",
       "  <thead>\n",
       "    <tr style=\"text-align: right;\">\n",
       "      <th></th>\n",
       "      <th>關鍵字</th>\n",
       "      <th>標題</th>\n",
       "      <th>時間</th>\n",
       "      <th>內文</th>\n",
       "      <th>網址</th>\n",
       "    </tr>\n",
       "  </thead>\n",
       "  <tbody>\n",
       "  </tbody>\n",
       "</table>\n",
       "</div>"
      ],
      "text/plain": [
       "Empty DataFrame\n",
       "Columns: [關鍵字, 標題, 時間, 內文, 網址]\n",
       "Index: []"
      ]
     },
     "execution_count": 9,
     "metadata": {},
     "output_type": "execute_result"
    }
   ],
   "source": [
    "TVBS(url_5, days, today, one_page)"
   ]
  }
 ],
 "metadata": {
  "kernelspec": {
   "display_name": "practice",
   "language": "python",
   "name": "python3"
  },
  "language_info": {
   "codemirror_mode": {
    "name": "ipython",
    "version": 3
   },
   "file_extension": ".py",
   "mimetype": "text/x-python",
   "name": "python",
   "nbconvert_exporter": "python",
   "pygments_lexer": "ipython3",
   "version": "3.12.3"
  }
 },
 "nbformat": 4,
 "nbformat_minor": 5
}
